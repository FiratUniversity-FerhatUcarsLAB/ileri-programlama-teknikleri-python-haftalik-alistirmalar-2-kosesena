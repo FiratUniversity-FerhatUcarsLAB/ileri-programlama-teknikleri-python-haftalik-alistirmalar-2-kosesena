{
 "cells": [
  {
   "cell_type": "code",
   "execution_count": null,
   "id": "6d35a0cc-6c20-46fd-b3fe-df4117a5470c",
   "metadata": {},
   "outputs": [],
   "source": [
    "# İsim: Sena Nur KÖSE\n",
    "# Öğrenci No: 235542006\n",
    "# Tarih: 4 Nisan 2025\n",
    "# Ders: YMH220 - İleri Programlama Teknikleri\n",
    "# Ödev: Python Egzersizleri - 2"
   ]
  },
  {
   "cell_type": "code",
   "execution_count": 21,
   "id": "e44b6ff7-05ea-4a95-8b2d-5f30c79492ec",
   "metadata": {},
   "outputs": [
    {
     "name": "stdout",
     "output_type": "stream",
     "text": [
      "True\n",
      "False\n",
      "True\n"
     ]
    }
   ],
   "source": [
    "def asal_mi(sayi):\n",
    "    if sayi <= 1:\n",
    "        return False\n",
    "    for i in range(2, int(sayi ** 0.5) + 1):\n",
    "        if sayi % i == 0:\n",
    "            return False\n",
    "    return True\n",
    "\n",
    "print(asal_mi(7))\n",
    "print(asal_mi(10))\n",
    "print(asal_mi(2))"
   ]
  },
  {
   "cell_type": "code",
   "execution_count": 23,
   "id": "5cbba2ac-f4b5-4377-937f-5ea5bc40a88b",
   "metadata": {},
   "outputs": [
    {
     "name": "stdout",
     "output_type": "stream",
     "text": [
      "6\n",
      "25\n",
      "1\n"
     ]
    }
   ],
   "source": [
    "def ebob(a, b):\n",
    "    while b != 0:\n",
    "        a, b = b, a % b\n",
    "    return a\n",
    "\n",
    "print(ebob(12, 18))\n",
    "print(ebob(100, 25))\n",
    "print(ebob(7, 13))"
   ]
  },
  {
   "cell_type": "code",
   "execution_count": 25,
   "id": "c22d3448-967a-4973-98cd-29bbb552420d",
   "metadata": {},
   "outputs": [
    {
     "name": "stdout",
     "output_type": "stream",
     "text": [
      "7\n",
      "5\n",
      "8\n"
     ]
    }
   ],
   "source": [
    "def sesli_harf_sayisi(metin):\n",
    "    sesliler = \"aeıioöuüAEIİOÖUÜ\"\n",
    "    sayac = 0\n",
    "    for harf in metin:\n",
    "        if harf in sesliler:\n",
    "            sayac += 1\n",
    "    return sayac\n",
    "\n",
    "print(sesli_harf_sayisi(\"Sena Python öğreniyor!\"))\n",
    "print(sesli_harf_sayisi(\"Python çok kolaymış :')\"))\n",
    "print(sesli_harf_sayisi(\"Sena'nın keyfi yerinde\"))"
   ]
  },
  {
   "cell_type": "code",
   "execution_count": 27,
   "id": "d821398d-7964-4744-b88b-c7c36a487f1f",
   "metadata": {},
   "outputs": [
    {
     "name": "stdout",
     "output_type": "stream",
     "text": [
      "[1, 2, 3, 4, 5, 6]\n"
     ]
    }
   ],
   "source": [
    "def sirali_listeleri_birlestir(liste1, liste2):\n",
    "    birlesik = liste1 + liste2\n",
    "    birlesik.sort()\n",
    "    return birlesik\n",
    "\n",
    "print(sirali_listeleri_birlestir([1, 4, 6], [2, 3, 5]))\n"
   ]
  },
  {
   "cell_type": "code",
   "execution_count": 29,
   "id": "6e54ac6a-35d1-473e-8b6f-f914965accf1",
   "metadata": {},
   "outputs": [
    {
     "name": "stdout",
     "output_type": "stream",
     "text": [
      "True\n",
      "False\n"
     ]
    }
   ],
   "source": [
    "def ikili_arama(liste, hedef):\n",
    "    bas = 0\n",
    "    son = len(liste) - 1\n",
    "\n",
    "    while bas <= son:\n",
    "        orta = (bas + son) // 2\n",
    "        if liste[orta] == hedef:\n",
    "            return True\n",
    "        elif liste[orta] < hedef:\n",
    "            bas = orta + 1\n",
    "        else:\n",
    "            son = orta - 1\n",
    "    return False\n",
    "\n",
    "print(ikili_arama([2, 4, 6, 8, 10, 12, 14], 10))\n",
    "print(ikili_arama([2, 4, 6, 8, 10, 12, 14], 5))"
   ]
  }
 ],
 "metadata": {
  "kernelspec": {
   "display_name": "Python [conda env:base] *",
   "language": "python",
   "name": "conda-base-py"
  },
  "language_info": {
   "codemirror_mode": {
    "name": "ipython",
    "version": 3
   },
   "file_extension": ".py",
   "mimetype": "text/x-python",
   "name": "python",
   "nbconvert_exporter": "python",
   "pygments_lexer": "ipython3",
   "version": "3.12.7"
  }
 },
 "nbformat": 4,
 "nbformat_minor": 5
}
